{
 "cells": [
  {
   "cell_type": "markdown",
   "metadata": {},
   "source": [
    "# Background Details"
   ]
  },
  {
   "cell_type": "markdown",
   "metadata": {},
   "source": [
    "A finite automaton (FA) is a 5-tuple (Q,Σ,q0,F,δ) where\n",
    "\n",
    "Q is a finite set of states;\n",
    "Σ is a finite input alphabet;\n",
    "q0 ∈ Q is the initial state;\n",
    "F ⊆ Q is the set of accepting/final states; and\n",
    "δ:Q×Σ→Q is the transition function.\n",
    "For any element q of Q and any symbol σ∈Σ, we interpret δ(q,σ) as the state to which the FA moves, if it is in state q and receives the input σ."
   ]
  },
  {
   "cell_type": "markdown",
   "metadata": {},
   "source": [
    "# Objective"
   ]
  },
  {
   "cell_type": "markdown",
   "metadata": {},
   "source": [
    "Find the remainder when dividing a number by 3"
   ]
  },
  {
   "cell_type": "markdown",
   "metadata": {},
   "source": [
    "# Code"
   ]
  },
  {
   "cell_type": "code",
   "execution_count": 232,
   "metadata": {},
   "outputs": [],
   "source": [
    "import random"
   ]
  },
  {
   "cell_type": "markdown",
   "metadata": {},
   "source": [
    "states"
   ]
  },
  {
   "cell_type": "code",
   "execution_count": 377,
   "metadata": {},
   "outputs": [],
   "source": [
    "class State(object):\n",
    "    def __init__(self, FA):\n",
    "        self.FA = FA\n",
    "\n",
    "    def enter(self):\n",
    "        pass\n",
    "    \n",
    "    def run(self,entry):\n",
    "        pass\n",
    "    \n",
    "    def exit(self):\n",
    "        pass    "
   ]
  },
  {
   "cell_type": "code",
   "execution_count": 378,
   "metadata": {},
   "outputs": [],
   "source": [
    "class State0(State):\n",
    "    def __init__(self, FA):\n",
    "        super(State0, self).__init__(FA)\n",
    "    \n",
    "    def enter(self):\n",
    "        print('entering state 0')\n",
    "        super(State0,self).enter()\n",
    "        \n",
    "    def run(self,entry):\n",
    "        print('executing in state 0')\n",
    "        if entry == \"0\":\n",
    "            self.FA.toTransition(\"toState0\")\n",
    "        elif entry == \"1\" :\n",
    "            self.FA.toTransition(\"toState1\")\n",
    "        \n",
    "        print(0)\n",
    "    \n",
    "    def exit(self):\n",
    "        pass"
   ]
  },
  {
   "cell_type": "code",
   "execution_count": 379,
   "metadata": {},
   "outputs": [],
   "source": [
    "class State1(State):\n",
    "    def __init__(self, FA):\n",
    "        super(State1, self).__init__(FA)\n",
    "    \n",
    "    def enter(self):\n",
    "        print('entering state 1')\n",
    "        super(State1,self).enter()\n",
    "        \n",
    "    def run(self,entry):\n",
    "        print('executing in state 1')\n",
    "        if entry == \"0\":\n",
    "            self.FA.toTransition(\"toState2\")\n",
    "        elif entry == \"1\" :\n",
    "            self.FA.toTransition(\"toState0\")\n",
    "        \n",
    "        print(1)\n",
    "    \n",
    "    def exit(self):\n",
    "        pass"
   ]
  },
  {
   "cell_type": "code",
   "execution_count": 380,
   "metadata": {},
   "outputs": [],
   "source": [
    "class State2(State):\n",
    "    def __init__(self, FA):\n",
    "        super(State2, self).__init__(FA)\n",
    "    \n",
    "    def enter(self):\n",
    "        print('entering state 2')\n",
    "        super(State2,self).enter()\n",
    "        \n",
    "    def run(self,entry):\n",
    "        print('executing in state 2')\n",
    "        if entry == \"0\":\n",
    "            self.FA.toTransition(\"toState1\")\n",
    "        elif entry == \"1\" :\n",
    "            self.FA.toTransition(\"toState2\")\n",
    "        \n",
    "        print(2)\n",
    "    \n",
    "    def exit(self):\n",
    "        pass"
   ]
  },
  {
   "cell_type": "markdown",
   "metadata": {},
   "source": [
    "Transition Class"
   ]
  },
  {
   "cell_type": "code",
   "execution_count": 381,
   "metadata": {},
   "outputs": [],
   "source": [
    "class Transition(object):\n",
    "    def __init__(self, toState):\n",
    "        self.toState = toState\n",
    "        \n",
    "    def run(self):\n",
    "        pass"
   ]
  },
  {
   "cell_type": "code",
   "execution_count": 396,
   "metadata": {},
   "outputs": [],
   "source": [
    "class FA(object):\n",
    "    def __init__(self,character):\n",
    "        self.character = character\n",
    "        self.states = {}\n",
    "        self.transitions = {}\n",
    "        self.currentState = None\n",
    "        self.previousState = None\n",
    "        self.trans = None\n",
    "    \n",
    "    def addTransition(self, transName, transition):\n",
    "        self.transitions[transName] = transition\n",
    "    \n",
    "    def addState(self, stateName, state):\n",
    "        self.states[stateName] = state\n",
    "    \n",
    "    def setState(self, stateName):\n",
    "        self.previousState = self.currentState\n",
    "        self.currentState = self.states[stateName]\n",
    "    \n",
    "    def toTransition(self, toTrans):\n",
    "        self.trans = self.transitions[toTrans]\n",
    "    \n",
    "    def run(self,entry):\n",
    "        print(\"Input: \" + entry)\n",
    "    \n",
    "        if self.trans:\n",
    "            self.currentState.exit()\n",
    "            self.trans.run()\n",
    "            self.setState(self.trans.toState)\n",
    "            self.currentState.enter()\n",
    "            self.trans = None\n",
    "        \n",
    "        self.currentState.run(entry)\n",
    "#         self.setState(self.trans.toState)\n"
   ]
  },
  {
   "cell_type": "code",
   "execution_count": 397,
   "metadata": {},
   "outputs": [],
   "source": [
    "Char = type(\"Char\",(object,),{})\n",
    "\n",
    "class GetRemainder(Char):\n",
    "    def __init__(self):\n",
    "        self.FA = FA(self)\n",
    "        self.FA.addState(\"State0\", State0(self.FA))\n",
    "        self.FA.addState(\"State1\", State1(self.FA))\n",
    "        self.FA.addState(\"State2\", State2(self.FA))\n",
    "        \n",
    "        self.FA.addTransition(\"toState0\", Transition(\"State0\"))\n",
    "        self.FA.addTransition(\"toState1\", Transition(\"State1\"))\n",
    "        self.FA.addTransition(\"toState2\", Transition(\"State2\"))\n",
    "        \n",
    "        self.FA.setState(\"State0\")\n",
    "    \n",
    "    def run(self, entry):\n",
    "        self.FA.run(entry)\n"
   ]
  },
  {
   "cell_type": "code",
   "execution_count": 398,
   "metadata": {},
   "outputs": [
    {
     "name": "stdout",
     "output_type": "stream",
     "text": [
      "The input string: 11001\n",
      "\n",
      "Input: 1\n",
      "executing in state 0\n",
      "0\n",
      "Input: 1\n",
      "entering state 1\n",
      "executing in state 1\n",
      "1\n",
      "Input: 0\n",
      "entering state 0\n",
      "executing in state 0\n",
      "0\n",
      "Input: 0\n",
      "entering state 0\n",
      "executing in state 0\n",
      "0\n",
      "Input: 1\n",
      "entering state 0\n",
      "executing in state 0\n",
      "0\n"
     ]
    }
   ],
   "source": [
    "binaryList = \"\".join([str(random.randint(0,1)) for i in range(0,5)])\n",
    "print(\"The input string: \" +  binaryList + \"\\n\")\n",
    "r = GetRemainder()\n",
    "for entry in binaryList:\n",
    "    r.run(entry)"
   ]
  }
 ],
 "metadata": {
  "kernelspec": {
   "display_name": "Python 3",
   "language": "python",
   "name": "python3"
  },
  "language_info": {
   "codemirror_mode": {
    "name": "ipython",
    "version": 3
   },
   "file_extension": ".py",
   "mimetype": "text/x-python",
   "name": "python",
   "nbconvert_exporter": "python",
   "pygments_lexer": "ipython3",
   "version": "3.6.4"
  }
 },
 "nbformat": 4,
 "nbformat_minor": 2
}
